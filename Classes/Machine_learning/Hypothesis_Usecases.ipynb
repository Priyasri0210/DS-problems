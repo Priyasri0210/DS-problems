{
  "nbformat": 4,
  "nbformat_minor": 0,
  "metadata": {
    "colab": {
      "provenance": []
    },
    "kernelspec": {
      "name": "python3",
      "display_name": "Python 3"
    },
    "language_info": {
      "name": "python"
    }
  },
  "cells": [
    {
      "cell_type": "code",
      "execution_count": 3,
      "metadata": {
        "colab": {
          "base_uri": "https://localhost:8080/"
        },
        "id": "8yYcLhOVyhrz",
        "outputId": "daf0bdd0-700e-4a97-a9a4-b2d6a26e6897"
      },
      "outputs": [
        {
          "output_type": "stream",
          "name": "stdout",
          "text": [
            "[0.52002927 0.45884936 0.48943931 0.39766944 0.36707949 2.23306687]\n",
            "Outliers at index: (array([5]),)\n"
          ]
        }
      ],
      "source": [
        "#Outlier detection\n",
        "import numpy as np\n",
        "import scipy.stats as stats\n",
        "\n",
        "salaries = [30000, 32000, 31000, 34000, 35000, 120000]  # 120000 is an outlier\n",
        "z_scores = np.abs(stats.zscore(salaries))\n",
        "\n",
        "print(z_scores)\n",
        "print(\"Outliers at index:\", np.where(z_scores > 2))"
      ]
    },
    {
      "cell_type": "code",
      "source": [
        "#Model Evaluation\n",
        "import scipy.stats as stats\n",
        "\n",
        "model_A = [0.80,0.82,0.79,0.83,0.80,0.82,0.86,0.84,0.79,0.81]\n",
        "model_B = [0.77,0.78,0.76,0.75,0.79,0.77,0.76,0.78,0.77,0.75]\n",
        "\n",
        "#Hypothesis testing\n",
        "#ho - No difference in mean\n",
        "#h1 - There is difference in mean\n",
        "\n",
        "t_stat,p_val = stats.ttest_ind(model_A,model_B)\n",
        "print(p_val)\n",
        "if p_val < 0.05:\n",
        "  print('Reject Null hypothesis')\n",
        "else:\n",
        "  print('Fail to reject Null Hypothesis')"
      ],
      "metadata": {
        "colab": {
          "base_uri": "https://localhost:8080/"
        },
        "id": "Wm3WKR5dyjTF",
        "outputId": "ebad07ea-c43e-4715-ae1d-e279ebd9c04a"
      },
      "execution_count": 6,
      "outputs": [
        {
          "output_type": "stream",
          "name": "stdout",
          "text": [
            "1.7622991615652744e-05\n",
            "Reject Null hypothesis\n"
          ]
        }
      ]
    },
    {
      "cell_type": "code",
      "source": [
        "#Feature Selection\n",
        "#check if the 'hours studied' affects the test score across study groups\n",
        "\n",
        "#test results\n",
        "group_1 = [65,70,68,74] #8\n",
        "group_2 = [80,82,78,85] #6\n",
        "group_3 = [50,55,53,58] #5\n",
        "\n",
        "#h0 - All groups mean are same\n",
        "#h1 - At least 1 group mean is different\n",
        "\n",
        "from scipy.stats import f_oneway\n",
        "\n",
        "f_stat,p_val = f_oneway(group_1,group_2,group_3)\n",
        "print(p_val)\n",
        "if p_val < 0.05:\n",
        "  print('Reject Null hypothesis')\n",
        "else:\n",
        "  print('Fail to reject Null Hypothesis')"
      ],
      "metadata": {
        "colab": {
          "base_uri": "https://localhost:8080/"
        },
        "id": "5ah095KyEgvM",
        "outputId": "0c7dd27e-c9a5-4759-dba2-055861f48306"
      },
      "execution_count": 9,
      "outputs": [
        {
          "output_type": "stream",
          "name": "stdout",
          "text": [
            "4.508081891725467e-06\n",
            "Reject Null hypothesis\n"
          ]
        }
      ]
    },
    {
      "cell_type": "code",
      "source": [
        "#A/B testing\n",
        "\n",
        "from statsmodels.stats.proportion import proportions_ztest\n",
        "\n",
        "#version A: 30 clicks out of 100\n",
        "#version B: 45 clicks out of 100\n",
        "\n",
        "count = [30,45]\n",
        "nobs = [100,100]\n",
        "\n",
        "#hypothesis\n",
        "#h0 - There is equal amount of clicks(convertion)\n",
        "#h1 - There is no equal amount of clicks(convertion)\n",
        "\n",
        "stats,p_val = proportions_ztest(count,nobs)\n",
        "print(p_val)\n",
        "if p_val < 0.05:\n",
        "  print('Reject Null hypothesis')\n",
        "else:\n",
        "  print('Fail to reject Null Hypothesis')"
      ],
      "metadata": {
        "colab": {
          "base_uri": "https://localhost:8080/"
        },
        "id": "vG1BzXdHF3WR",
        "outputId": "389fec82-7d63-41fd-a75a-39afa889fef6"
      },
      "execution_count": 12,
      "outputs": [
        {
          "output_type": "stream",
          "name": "stdout",
          "text": [
            "0.02845973691631055\n",
            "Reject Null hypothesis\n"
          ]
        }
      ]
    },
    {
      "cell_type": "code",
      "source": [
        "#Fraud Detection\n",
        "#Check if new set of transactions has unusally high amounts\n",
        "import scipy.stats as stats\n",
        "normal_txn = [100,120,110,130,125]\n",
        "suspicious_txn = [200,220,210,230,215]\n",
        "\n",
        "#hypothesis\n",
        "#h0 - No difference\n",
        "#h1 - There is difference(fraud)\n",
        "\n",
        "t_stat,p_val = stats.ttest_ind(normal_txn,suspicious_txn)\n",
        "print(p_val)\n",
        "if p_val < 0.05:\n",
        "  print('Reject Null hypothesis')\n",
        "else:\n",
        "  print('Fail to reject Null Hypothesis')"
      ],
      "metadata": {
        "colab": {
          "base_uri": "https://localhost:8080/"
        },
        "id": "ECPgmnRwHEtc",
        "outputId": "8e8109ac-fc0a-4d1e-bdd6-d3c9eac188c4"
      },
      "execution_count": 16,
      "outputs": [
        {
          "output_type": "stream",
          "name": "stdout",
          "text": [
            "9.553631876754624e-07\n",
            "Reject Null hypothesis\n"
          ]
        }
      ]
    },
    {
      "cell_type": "code",
      "source": [
        "#ADFuller test\n",
        "#identigy the data is stationary or not"
      ],
      "metadata": {
        "id": "0m37vZAdIGY5"
      },
      "execution_count": null,
      "outputs": []
    }
  ]
}