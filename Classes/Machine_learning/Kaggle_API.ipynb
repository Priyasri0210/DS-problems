{
  "nbformat": 4,
  "nbformat_minor": 0,
  "metadata": {
    "colab": {
      "provenance": []
    },
    "kernelspec": {
      "name": "python3",
      "display_name": "Python 3"
    },
    "language_info": {
      "name": "python"
    }
  },
  "cells": [
    {
      "cell_type": "code",
      "source": [
        "#Need to download the api token from kaggle website\n",
        "#Upload the kaggle.json file"
      ],
      "metadata": {
        "id": "UouAFWI7MGDw"
      },
      "execution_count": null,
      "outputs": []
    },
    {
      "cell_type": "code",
      "execution_count": 1,
      "metadata": {
        "id": "iljGYNQ4KmVr"
      },
      "outputs": [],
      "source": [
        "#move kaggle file to right location\n",
        "!mkdir -p ~/.kaggle\n",
        "!mv kaggle.json ~/.kaggle/\n",
        "!chmod 600 ~/.kaggle/kaggle.json"
      ]
    },
    {
      "cell_type": "code",
      "source": [
        "#Install the kaggle package\n",
        "!pip install -q kaggle"
      ],
      "metadata": {
        "id": "GA4z_uulLMX1"
      },
      "execution_count": 3,
      "outputs": []
    },
    {
      "cell_type": "code",
      "source": [
        "!kaggle datasets download -d snap/amazon-fine-food-reviews"
      ],
      "metadata": {
        "colab": {
          "base_uri": "https://localhost:8080/"
        },
        "id": "4mKLGVTDL1ML",
        "outputId": "0e14bc30-672b-499c-bdfb-d8878ace53d4"
      },
      "execution_count": 4,
      "outputs": [
        {
          "output_type": "stream",
          "name": "stdout",
          "text": [
            "Dataset URL: https://www.kaggle.com/datasets/snap/amazon-fine-food-reviews\n",
            "License(s): CC0-1.0\n",
            "Downloading amazon-fine-food-reviews.zip to /content\n",
            " 97% 235M/242M [00:00<00:00, 544MB/s] \n",
            "100% 242M/242M [00:00<00:00, 577MB/s]\n"
          ]
        }
      ]
    },
    {
      "cell_type": "code",
      "source": [
        "#unzip\n",
        "!unzip -q amazon-fine-food-reviews.zip"
      ],
      "metadata": {
        "id": "45s54FDWL6ls"
      },
      "execution_count": 5,
      "outputs": []
    },
    {
      "cell_type": "code",
      "source": [],
      "metadata": {
        "id": "XqBcZktrMBnl"
      },
      "execution_count": null,
      "outputs": []
    }
  ]
}