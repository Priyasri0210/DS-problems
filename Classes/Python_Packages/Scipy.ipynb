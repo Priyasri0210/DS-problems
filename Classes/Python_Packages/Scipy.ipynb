{
  "nbformat": 4,
  "nbformat_minor": 0,
  "metadata": {
    "colab": {
      "provenance": []
    },
    "kernelspec": {
      "name": "python3",
      "display_name": "Python 3"
    },
    "language_info": {
      "name": "python"
    }
  },
  "cells": [
    {
      "cell_type": "markdown",
      "source": [
        "Scipy --> scientific python. It is build on top of Numpy.\n",
        "Statistical operations\n",
        "linear algebra\n"
      ],
      "metadata": {
        "id": "etriE7mZHbym"
      }
    },
    {
      "cell_type": "markdown",
      "source": [
        "1. T Test\n",
        "Goal --> check the sample mean is different from population\n",
        " h0 --> There is no difference\n",
        " h1 --> There is difference"
      ],
      "metadata": {
        "id": "9ZCiB1FXH-5D"
      }
    },
    {
      "cell_type": "code",
      "execution_count": null,
      "metadata": {
        "colab": {
          "base_uri": "https://localhost:8080/"
        },
        "id": "MciwW0JDHWjv",
        "outputId": "0382ed08-ec99-4842-9517-5509e16c514c"
      },
      "outputs": [
        {
          "output_type": "stream",
          "name": "stdout",
          "text": [
            "1.8708286933869707\n",
            "0.1105517404022668\n",
            "Fail to reject H0\n",
            "2.4469118511449692\n",
            "Fail to reject H0\n"
          ]
        }
      ],
      "source": [
        "from scipy import stats\n",
        "data = [10,12,9,11,13,12,10] #sample data\n",
        "population_mean = 10 #population mean\n",
        "#significance = 0.05\n",
        "t_stat , p_value = stats.ttest_1samp(data,population_mean)\n",
        "print(t_stat)\n",
        "print(p_value)\n",
        "if p_value <= 0.05:\n",
        "  print('Reject H0')\n",
        "else:\n",
        "  print('Fail to reject H0')\n",
        "\n",
        "df = len(data)-1\n",
        "alpha = 0.05\n",
        "critical_value = stats.t.ppf(1-alpha/2,df)\n",
        "print(critical_value)\n",
        "if critical_value > t_stat:\n",
        "  print('Fail to reject H0')\n",
        "else:\n",
        "  print('Reject H0')"
      ]
    },
    {
      "cell_type": "markdown",
      "source": [
        "Z - Test"
      ],
      "metadata": {
        "id": "Cw1YhOmjKdET"
      }
    },
    {
      "cell_type": "code",
      "source": [
        "from statsmodels.stats.weightstats import ztest\n",
        "from scipy.stats import norm\n",
        "\n",
        "data = [100,102,98,101,99,97,103]\n",
        "population_mean = 100\n",
        "\n",
        "z_stat , p_value = ztest(data,value = population_mean)\n",
        "print(z_stat)\n",
        "print(p_value)\n",
        "\n",
        "if p_value <= 0.05:\n",
        "  print('Reject H0')\n",
        "else:\n",
        "  print('Fail to reject H0')\n",
        "alpha = 0.05\n",
        "critical_value = norm.ppf(1-alpha/2)\n",
        "print(critical_value)\n",
        "if critical_value > z_stat:\n",
        "  print('Fail to reject H0')\n",
        "else:\n",
        "  print('Reject H0')"
      ],
      "metadata": {
        "colab": {
          "base_uri": "https://localhost:8080/"
        },
        "id": "NmqhjTtiIYjl",
        "outputId": "f936e266-69ef-434a-983b-cc98005a96de"
      },
      "execution_count": null,
      "outputs": [
        {
          "output_type": "stream",
          "name": "stdout",
          "text": [
            "0.0\n",
            "1.0\n",
            "Fail to reject H0\n",
            "1.959963984540054\n",
            "Fail to reject H0\n"
          ]
        }
      ]
    },
    {
      "cell_type": "markdown",
      "source": [
        "Anova"
      ],
      "metadata": {
        "id": "VSbUUc4MMgU-"
      }
    },
    {
      "cell_type": "code",
      "source": [
        "from scipy.stats import f_oneway\n",
        "\n",
        "grp1 = [16,15,13,16,15]\n",
        "grp2 = [10,20,19,17,21]\n",
        "grp3 = [12,11,13,12,10]\n",
        "\n",
        "f_stat,p_value = f_oneway(grp1,grp2,grp3)\n",
        "print(f_stat)\n",
        "print(p_value)\n",
        "if p_value <= 0.05:\n",
        "  print('Reject H0')\n",
        "else:\n",
        "  print('Fail to reject H0')\n",
        "\n",
        "\n",
        "#df1 = degree of freedom between groups(total group - 1)\n",
        "#df2 = degree of freedom within groups(len of all the groups - total group)\n",
        "\n",
        "df1 = 3 - 1\n",
        "df2 = len(grp1 + grp2+ grp3) - 3\n",
        "alpha = 0.05\n",
        "critical_value = stats.f.ppf(1-alpha , df1 , df2)\n",
        "print(critical_value)\n",
        "if critical_value > f_stat:\n",
        "  print('Fail to reject H0')\n",
        "else:\n",
        "  print('Reject H0')"
      ],
      "metadata": {
        "colab": {
          "base_uri": "https://localhost:8080/"
        },
        "id": "VAQOvAI7LY1p",
        "outputId": "3caa16e3-ba61-4485-e864-1c50f760b019"
      },
      "execution_count": null,
      "outputs": [
        {
          "output_type": "stream",
          "name": "stdout",
          "text": [
            "5.764705882352943\n",
            "0.017596287800999998\n",
            "Reject H0\n",
            "3.885293834652391\n",
            "Reject H0\n"
          ]
        }
      ]
    },
    {
      "cell_type": "code",
      "source": [],
      "metadata": {
        "id": "1NRvRVlIM-pn"
      },
      "execution_count": null,
      "outputs": []
    }
  ]
}