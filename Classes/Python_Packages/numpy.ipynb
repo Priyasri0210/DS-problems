{
  "cells": [
    {
      "cell_type": "markdown",
      "metadata": {
        "id": "D6MC5swKQYNH"
      },
      "source": [
        "Numpy - Numerical Python\n",
        "1. It has wide variety of mathematical operations\n",
        "2. It is faster"
      ]
    },
    {
      "cell_type": "code",
      "execution_count": null,
      "metadata": {
        "id": "1NUyBkWHQegC"
      },
      "outputs": [],
      "source": [
        "import numpy as np"
      ]
    },
    {
      "cell_type": "code",
      "execution_count": 8,
      "metadata": {
        "id": "alAoKMFhRX1R"
      },
      "outputs": [],
      "source": [
        "from time import process_time"
      ]
    },
    {
      "cell_type": "markdown",
      "metadata": {
        "id": "ua7np2ofTMZ1"
      },
      "source": [
        "**Faster**"
      ]
    },
    {
      "cell_type": "code",
      "execution_count": 6,
      "metadata": {
        "colab": {
          "base_uri": "https://localhost:8080/"
        },
        "id": "4oZOk6qCRqoK",
        "outputId": "fafa31a0-7fa7-4815-c0c1-6601bfcf2fdf"
      },
      "outputs": [
        {
          "name": "stdout",
          "output_type": "stream",
          "text": [
            "0.0011726900000006424\n"
          ]
        }
      ],
      "source": [
        "#List\n",
        "py_list = [i for i in range(10000)]\n",
        "\n",
        "start_time = process_time()\n",
        "\n",
        "py_list = [i+5 for i in py_list]\n",
        "\n",
        "end_time = process_time()\n",
        "\n",
        "print(end_time - start_time)"
      ]
    },
    {
      "cell_type": "code",
      "execution_count": 9,
      "metadata": {
        "colab": {
          "base_uri": "https://localhost:8080/"
        },
        "id": "Yz0DeG3fSfGS",
        "outputId": "a089ddb6-2043-42c4-c9ab-35ab7d1144ce"
      },
      "outputs": [
        {
          "name": "stdout",
          "output_type": "stream",
          "text": [
            "0.000884572000000361\n"
          ]
        }
      ],
      "source": [
        "#Numpy\n",
        "np_array = np.array([i for i in range(10000)])\n",
        "\n",
        "start_time = process_time()\n",
        "\n",
        "np_array = np_array + 5\n",
        "\n",
        "end_time = process_time()\n",
        "\n",
        "print(end_time - start_time)"
      ]
    },
    {
      "cell_type": "markdown",
      "metadata": {
        "id": "S84HiwQuTUhM"
      },
      "source": [
        "**NUMPY ARRAY**"
      ]
    },
    {
      "cell_type": "code",
      "execution_count": 11,
      "metadata": {
        "colab": {
          "base_uri": "https://localhost:8080/"
        },
        "id": "47SZyga2TTp4",
        "outputId": "54a01ced-747d-4d4f-c82a-96af13f64554"
      },
      "outputs": [
        {
          "name": "stdout",
          "output_type": "stream",
          "text": [
            "<class 'list'>\n",
            "<class 'numpy.ndarray'>\n"
          ]
        }
      ],
      "source": [
        "#list\n",
        "list1 = [1,2,3,4]\n",
        "print(type(list1))\n",
        "\n",
        "np_array = np.array([1,2,3,4])\n",
        "print(type(np_array))"
      ]
    },
    {
      "cell_type": "code",
      "execution_count": 14,
      "metadata": {
        "colab": {
          "base_uri": "https://localhost:8080/"
        },
        "id": "6rs6nxhoT84X",
        "outputId": "bf31d88f-7015-4514-e0e2-512856737397"
      },
      "outputs": [
        {
          "name": "stdout",
          "output_type": "stream",
          "text": [
            "[1 2 3 4]\n",
            "(4,)\n"
          ]
        }
      ],
      "source": [
        "#1 dim array\n",
        "a = np.array([1,2,3,4])\n",
        "print(a)\n",
        "print(a.shape)"
      ]
    },
    {
      "cell_type": "code",
      "execution_count": 18,
      "metadata": {
        "colab": {
          "base_uri": "https://localhost:8080/"
        },
        "id": "25Jh0Yg5UuIf",
        "outputId": "d88f9e0a-b7b8-488a-c50a-33eab7efb455"
      },
      "outputs": [
        {
          "name": "stdout",
          "output_type": "stream",
          "text": [
            "[[1 2 3 4]\n",
            " [5 6 7 8]]\n",
            "(2, 4)\n"
          ]
        }
      ],
      "source": [
        "#2 dimension\n",
        "b = np.array([(1,2,3,4),(5,6,7,8)])\n",
        "print(b)\n",
        "print(b.shape)"
      ]
    },
    {
      "cell_type": "code",
      "execution_count": 20,
      "metadata": {
        "colab": {
          "base_uri": "https://localhost:8080/"
        },
        "id": "b13r1lpZVVN3",
        "outputId": "9c962047-a154-4fff-a51c-0274fd9b8507"
      },
      "outputs": [
        {
          "name": "stdout",
          "output_type": "stream",
          "text": [
            "[[ 1  2  3  4]\n",
            " [ 5  6  7  8]\n",
            " [ 9 10 11 12]]\n",
            "(3, 4)\n"
          ]
        }
      ],
      "source": [
        "#3 dimension\n",
        "c = np.array([(1,2,3,4),(5,6,7,8),(9,10,11,12)])\n",
        "print(c)\n",
        "print(c.shape)"
      ]
    },
    {
      "cell_type": "code",
      "execution_count": 23,
      "metadata": {
        "colab": {
          "base_uri": "https://localhost:8080/"
        },
        "id": "eQN_Nv7hVgsi",
        "outputId": "a15b0a13-1c9a-4143-86c8-b9306660e366"
      },
      "outputs": [
        {
          "name": "stdout",
          "output_type": "stream",
          "text": [
            "[[0. 0. 0.]\n",
            " [0. 0. 0.]\n",
            " [0. 0. 0.]\n",
            " [0. 0. 0.]]\n"
          ]
        }
      ],
      "source": [
        "#create a numpy array with only zeros\n",
        "#np.zeros((rows,column))\n",
        "d = np.zeros((4,3))\n",
        "print(d)"
      ]
    },
    {
      "cell_type": "code",
      "execution_count": 25,
      "metadata": {
        "colab": {
          "base_uri": "https://localhost:8080/"
        },
        "id": "mB72tdZ2WF2n",
        "outputId": "72ff7344-19ec-482d-b33e-8bfbb0b11577"
      },
      "outputs": [
        {
          "name": "stdout",
          "output_type": "stream",
          "text": [
            "[[1. 1. 1.]\n",
            " [1. 1. 1.]\n",
            " [1. 1. 1.]\n",
            " [1. 1. 1.]]\n"
          ]
        }
      ],
      "source": [
        "#create a numpy array with only ones\n",
        "#np.ones((rows,column))\n",
        "e = np.ones((4,3))\n",
        "print(e)"
      ]
    },
    {
      "cell_type": "code",
      "execution_count": 27,
      "metadata": {
        "colab": {
          "base_uri": "https://localhost:8080/"
        },
        "id": "CwAa_9YTWSDO",
        "outputId": "bc5c508a-6e64-48fd-eeff-7a71b8af6a47"
      },
      "outputs": [
        {
          "name": "stdout",
          "output_type": "stream",
          "text": [
            "[[2 2 2]\n",
            " [2 2 2]\n",
            " [2 2 2]\n",
            " [2 2 2]]\n"
          ]
        }
      ],
      "source": [
        "#create a numpy array with any 1 value\n",
        "#np.full((rows,column),element)\n",
        "f = np.full((4,3),2)\n",
        "print(f)"
      ]
    },
    {
      "cell_type": "code",
      "execution_count": 30,
      "metadata": {
        "colab": {
          "base_uri": "https://localhost:8080/"
        },
        "id": "NLyp6OmgWnTU",
        "outputId": "fc0bab52-b378-4f2b-f9cf-b65d0ca15213"
      },
      "outputs": [
        {
          "name": "stdout",
          "output_type": "stream",
          "text": [
            "[[1. 0. 0. 0.]\n",
            " [0. 1. 0. 0.]\n",
            " [0. 0. 1. 0.]\n",
            " [0. 0. 0. 1.]]\n"
          ]
        }
      ],
      "source": [
        "#identity matrix\n",
        "#no.eye(row/column)\n",
        "g = np.eye(4)\n",
        "print(g)"
      ]
    },
    {
      "cell_type": "code",
      "execution_count": 35,
      "metadata": {
        "colab": {
          "base_uri": "https://localhost:8080/"
        },
        "id": "gPfZ32YpXQBt",
        "outputId": "b2d6650d-4c18-4cf7-92ac-9419eca5a4df"
      },
      "outputs": [
        {
          "name": "stdout",
          "output_type": "stream",
          "text": [
            "[[0.89892926 0.15136772 0.54319477 0.82055257]\n",
            " [0.60761435 0.85837553 0.66859743 0.39429221]\n",
            " [0.51579224 0.91249148 0.17851657 0.92182898]]\n"
          ]
        }
      ],
      "source": [
        "#create a numpy array with random values\n",
        "#np.random.random((row,column))\n",
        "h = np.random.random((3,4))\n",
        "print(h)"
      ]
    },
    {
      "cell_type": "code",
      "execution_count": 40,
      "metadata": {
        "colab": {
          "base_uri": "https://localhost:8080/"
        },
        "id": "egOQYJuKXxSE",
        "outputId": "34ba2e45-b4a2-46a6-e3e1-c1e0c4ae387d"
      },
      "outputs": [
        {
          "name": "stdout",
          "output_type": "stream",
          "text": [
            "[[63 83 32 53 68]\n",
            " [77 60 48 61 76]\n",
            " [71 34 87 63 23]]\n"
          ]
        }
      ],
      "source": [
        "#random values in int format\n",
        "#np.random.randint(start,end,(row,column))\n",
        "i = np.random.randint(10,100,(3,5))\n",
        "print(i)"
      ]
    },
    {
      "cell_type": "code",
      "execution_count": 45,
      "metadata": {
        "colab": {
          "base_uri": "https://localhost:8080/"
        },
        "id": "xMJk0EMwYS1r",
        "outputId": "e977a10f-22f7-46fd-9e5c-c4ef22404ab9"
      },
      "outputs": [
        {
          "name": "stdout",
          "output_type": "stream",
          "text": [
            "[10. 15. 20. 25. 30.]\n"
          ]
        }
      ],
      "source": [
        "# Array of evenly spaced values\n",
        "#np.linspace(start,end,specify number of values needed)\n",
        "j = np.linspace(10,30,5)\n",
        "print(j)"
      ]
    },
    {
      "cell_type": "code",
      "execution_count": 52,
      "metadata": {
        "colab": {
          "base_uri": "https://localhost:8080/"
        },
        "id": "aonnbBA1Yyw9",
        "outputId": "934728fe-e416-4965-9697-0c1e0bc6497a"
      },
      "outputs": [
        {
          "name": "stdout",
          "output_type": "stream",
          "text": [
            "[10 13 16 19 22 25 28]\n"
          ]
        }
      ],
      "source": [
        "## Array of evenly spaced values - specifying the step\n",
        "#np.arange(start,end,skip)\n",
        "k = np.arange(10,30,3)\n",
        "print(k)"
      ]
    },
    {
      "cell_type": "code",
      "execution_count": null,
      "metadata": {
        "colab": {
          "base_uri": "https://localhost:8080/"
        },
        "id": "3gsxayUGZpff",
        "outputId": "d800cb8e-a3ef-449f-eed0-f48e72c3f6b6"
      },
      "outputs": [
        {
          "data": {
            "text/plain": [
              "numpy.ndarray"
            ]
          },
          "execution_count": 54,
          "metadata": {},
          "output_type": "execute_result"
        }
      ],
      "source": [
        "#list to np.array\n",
        "list2 = [10,20,30,40,50]\n",
        "\n",
        "#np.asarray(variable of list)\n",
        "l = np.asarray(list2)\n",
        "type(l)"
      ]
    },
    {
      "cell_type": "markdown",
      "metadata": {
        "id": "aKmC8AWRaOYd"
      },
      "source": [
        "**Analysing a numpy array**"
      ]
    },
    {
      "cell_type": "code",
      "execution_count": 58,
      "metadata": {
        "colab": {
          "base_uri": "https://localhost:8080/"
        },
        "id": "ntXENd9vaNk2",
        "outputId": "61d1adff-2f9f-468f-814c-911b9f790db5"
      },
      "outputs": [
        {
          "data": {
            "text/plain": [
              "array([[24, 13, 57, 52, 47],\n",
              "       [54, 59, 32, 89, 12],\n",
              "       [37, 61, 87, 49, 10],\n",
              "       [30, 20, 17, 30, 67]])"
            ]
          },
          "execution_count": 58,
          "metadata": {},
          "output_type": "execute_result"
        }
      ],
      "source": [
        "ck = np.random.randint(10,90,(4,5))\n",
        "ck"
      ]
    },
    {
      "cell_type": "code",
      "execution_count": 60,
      "metadata": {
        "colab": {
          "base_uri": "https://localhost:8080/"
        },
        "id": "tCdNj47Aaf_a",
        "outputId": "3ee88884-4b8b-42c7-f99d-eb973466a1db"
      },
      "outputs": [
        {
          "name": "stdout",
          "output_type": "stream",
          "text": [
            "(4, 5)\n"
          ]
        }
      ],
      "source": [
        "#array dimension\n",
        "print(ck.shape)"
      ]
    },
    {
      "cell_type": "code",
      "execution_count": 62,
      "metadata": {
        "colab": {
          "base_uri": "https://localhost:8080/"
        },
        "id": "HldvF7jAaoSQ",
        "outputId": "d5d2edf3-e73a-4ef6-a621-1f8ed51e41f0"
      },
      "outputs": [
        {
          "name": "stdout",
          "output_type": "stream",
          "text": [
            "20\n"
          ]
        }
      ],
      "source": [
        "#number of elements in an array\n",
        "print(ck.size)"
      ]
    },
    {
      "cell_type": "code",
      "execution_count": 64,
      "metadata": {
        "colab": {
          "base_uri": "https://localhost:8080/"
        },
        "id": "t6rdT4HJa1YO",
        "outputId": "bc271591-fad9-40b7-9553-d48862afa700"
      },
      "outputs": [
        {
          "name": "stdout",
          "output_type": "stream",
          "text": [
            "int64\n"
          ]
        }
      ],
      "source": [
        "#identify the data type in np array\n",
        "print(ck.dtype)"
      ]
    },
    {
      "cell_type": "markdown",
      "metadata": {
        "id": "aIIu6UhobJSs"
      },
      "source": [
        "**mathematical Operations**"
      ]
    },
    {
      "cell_type": "code",
      "execution_count": 67,
      "metadata": {
        "colab": {
          "base_uri": "https://localhost:8080/"
        },
        "id": "I1McVCvibHpm",
        "outputId": "5182aea0-277b-459d-966a-5adfc22eeffd"
      },
      "outputs": [
        {
          "name": "stdout",
          "output_type": "stream",
          "text": [
            "[[2 8 4]\n",
            " [4 3 2]\n",
            " [7 4 3]]\n",
            "[[19 14 17]\n",
            " [14 14 14]\n",
            " [11 10 16]]\n"
          ]
        }
      ],
      "source": [
        "mat1 = np.random.randint(0,10,(3,3))\n",
        "mat2 = np.random.randint(10,20,(3,3))\n",
        "print(mat1)\n",
        "print(mat2)"
      ]
    },
    {
      "cell_type": "code",
      "execution_count": 70,
      "metadata": {
        "colab": {
          "base_uri": "https://localhost:8080/"
        },
        "id": "iVMvX6d8cCoq",
        "outputId": "55553599-3da0-4b05-d9ce-9effc8079141"
      },
      "outputs": [
        {
          "name": "stdout",
          "output_type": "stream",
          "text": [
            "[[21 22 21]\n",
            " [18 17 16]\n",
            " [18 14 19]]\n"
          ]
        }
      ],
      "source": [
        "print(mat1 + mat2)"
      ]
    },
    {
      "cell_type": "code",
      "execution_count": 72,
      "metadata": {
        "colab": {
          "base_uri": "https://localhost:8080/"
        },
        "id": "p38RZwS4cL72",
        "outputId": "b79dfbee-ea49-4e65-f740-e2d52accb2ab"
      },
      "outputs": [
        {
          "name": "stdout",
          "output_type": "stream",
          "text": [
            "[[-17  -6 -13]\n",
            " [-10 -11 -12]\n",
            " [ -4  -6 -13]]\n"
          ]
        }
      ],
      "source": [
        "print(mat1 - mat2)"
      ]
    },
    {
      "cell_type": "code",
      "execution_count": 74,
      "metadata": {
        "colab": {
          "base_uri": "https://localhost:8080/"
        },
        "id": "BYXezAq1cOlf",
        "outputId": "4086b7f0-df86-41f9-c5b7-fc76b361ca56"
      },
      "outputs": [
        {
          "name": "stdout",
          "output_type": "stream",
          "text": [
            "[[ 38 112  68]\n",
            " [ 56  42  28]\n",
            " [ 77  40  48]]\n"
          ]
        }
      ],
      "source": [
        "print(mat1*mat2)"
      ]
    },
    {
      "cell_type": "code",
      "execution_count": 76,
      "metadata": {
        "colab": {
          "base_uri": "https://localhost:8080/"
        },
        "id": "6pEChDGGcYNc",
        "outputId": "b2579fe0-5359-4270-93ae-168a182ec36d"
      },
      "outputs": [
        {
          "name": "stdout",
          "output_type": "stream",
          "text": [
            "[[0.10526316 0.57142857 0.23529412]\n",
            " [0.28571429 0.21428571 0.14285714]\n",
            " [0.63636364 0.4        0.1875    ]]\n"
          ]
        }
      ],
      "source": [
        "print(mat1/mat2)"
      ]
    },
    {
      "cell_type": "markdown",
      "metadata": {
        "id": "uDV0G4LlchW4"
      },
      "source": [
        "**Transpose**"
      ]
    },
    {
      "cell_type": "code",
      "execution_count": 79,
      "metadata": {
        "colab": {
          "base_uri": "https://localhost:8080/"
        },
        "id": "qNkzGBRdcgxE",
        "outputId": "6a3b68a2-fa35-470e-9584-8d58e59617fb"
      },
      "outputs": [
        {
          "name": "stdout",
          "output_type": "stream",
          "text": [
            "[[2 1 8]\n",
            " [5 3 7]]\n",
            "(2, 3)\n"
          ]
        }
      ],
      "source": [
        "mat3 = np.random.randint(0,10,(2,3))\n",
        "print(mat3)\n",
        "print(mat3.shape)"
      ]
    },
    {
      "cell_type": "code",
      "execution_count": 80,
      "metadata": {
        "colab": {
          "base_uri": "https://localhost:8080/"
        },
        "id": "jdBmJyfUdLX_",
        "outputId": "a6ad8775-45ab-49b3-e13d-2ceddc0fda6a"
      },
      "outputs": [
        {
          "name": "stdout",
          "output_type": "stream",
          "text": [
            "[[2 5]\n",
            " [1 3]\n",
            " [8 7]]\n",
            "(3, 2)\n"
          ]
        }
      ],
      "source": [
        "trans = np.transpose(mat3)\n",
        "print(trans)\n",
        "print(trans.shape)"
      ]
    }
  ],
  "metadata": {
    "colab": {
      "provenance": []
    },
    "kernelspec": {
      "display_name": "Python 3",
      "name": "python3"
    },
    "language_info": {
      "name": "python"
    }
  },
  "nbformat": 4,
  "nbformat_minor": 0
}
